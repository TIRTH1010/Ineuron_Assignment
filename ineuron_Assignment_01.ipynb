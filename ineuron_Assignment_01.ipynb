{
 "cells": [
  {
   "cell_type": "code",
   "execution_count": null,
   "metadata": {},
   "outputs": [],
   "source": [
    "# 1. In the below elements which of them are values or an expression? eg:- values can be\n",
    "# integer or string and expressions will be mathematical operators.\n",
    "# *\n",
    "# &#39;hello&#39;\n",
    "# -87.8\n",
    "# -\n",
    "# /\n",
    "# +\n",
    "# 6\n",
    "\n",
    "\n",
    "# 2. What is the difference between string and variable?\n",
    "\n",
    "# 3. Describe three different data types.\n",
    "\n",
    "# 4. What is an expression made up of? What do all expressions do?\n",
    "# 5. This assignment statements, like spam = 10. What is the difference between an\n",
    "# expression and a statement?\n",
    "# 6. After running the following code, what does the variable bacon contain?\n",
    "# bacon = 22\n",
    "# bacon + 1\n",
    "\n",
    "# 7. What should the values of the following two terms be?\n",
    "# &#39;spam&#39; + &#39;spamspam&#39;\n",
    "# &#39;spam&#39; * 3\n",
    "\n",
    "# 8. Why is eggs a valid variable name while 100 is invalid?\n",
    "\n",
    "# 9. What three functions can be used to get the integer, floating-point number, or string\n",
    "# version of a value?\n",
    "# 10. Why does this expression cause an error? How can you fix it?\n",
    "# &#39;I have eaten &#39; + 99 + &#39; burritos.&#39;"
   ]
  },
  {
   "cell_type": "markdown",
   "metadata": {},
   "source": [
    "### Q1. In the below elements which of them are values or an expression?\n"
   ]
  },
  {
   "cell_type": "markdown",
   "metadata": {},
   "source": [
    "### Answer:\n",
    "### * ----> This is expression\n",
    "### &#39;hello&#39;---> this is value\n",
    "### -87.8 ----> this is value\n",
    "### - ----> This is expression\n",
    "### / ----> This is expression\n",
    "### + ----> This is expression\n",
    "### 6 ----> This is value"
   ]
  },
  {
   "cell_type": "markdown",
   "metadata": {},
   "source": [
    "### ------------------------------------------------------------------------------------------------------------------"
   ]
  },
  {
   "cell_type": "markdown",
   "metadata": {},
   "source": [
    "### Q2. What is the difference between string and variable?\n",
    "\n",
    "### Answer: In Python, a string is a data type used to represent text, which is a sequence of characters enclosed within either single quotes (' '), double quotes (\" \"), or triple quotes (''' ''' or \"\"\" \"\"\"). \n",
    "\n",
    "### For example:"
   ]
  },
  {
   "cell_type": "code",
   "execution_count": 1,
   "metadata": {},
   "outputs": [],
   "source": [
    "my_string = 'This is assignment 01!'"
   ]
  },
  {
   "cell_type": "markdown",
   "metadata": {},
   "source": [
    "### Here my_string is variable where 'This is assignment 01!' is string which is stored in variable"
   ]
  },
  {
   "cell_type": "markdown",
   "metadata": {},
   "source": [
    "### ------------------------------------------------------------------------------------------------------------------"
   ]
  },
  {
   "cell_type": "markdown",
   "metadata": {},
   "source": [
    "### Q3. Describe three different data types."
   ]
  },
  {
   "cell_type": "markdown",
   "metadata": {},
   "source": [
    "### Answer:\n",
    "\n",
    "### List: Lists are ordered collections of items, which can be of any data type and can be modified. They are defined using square brackets ([]). For example:"
   ]
  },
  {
   "cell_type": "code",
   "execution_count": 2,
   "metadata": {},
   "outputs": [],
   "source": [
    "my_list = [1, 'apple', True, 3.14]"
   ]
  },
  {
   "cell_type": "markdown",
   "metadata": {},
   "source": [
    "### Dictionary (dict): Dictionaries are collections of key-value pairs, where each key is associated with a value. They are unordered, mutable, and are defined using curly braces ({}) with key-value pairs separated by colons (:). For example:"
   ]
  },
  {
   "cell_type": "code",
   "execution_count": 3,
   "metadata": {},
   "outputs": [],
   "source": [
    "my_dict = {'name': 'Alice', 'age': 30, 'city': 'London'}"
   ]
  },
  {
   "cell_type": "markdown",
   "metadata": {},
   "source": [
    "### Tuple: Tuples are ordered collections of items, similar to lists, but they are immutable, meaning you cannot change, add, or remove items after the tuple is created. Tuples are defined using parentheses (()). For example:"
   ]
  },
  {
   "cell_type": "code",
   "execution_count": 4,
   "metadata": {},
   "outputs": [],
   "source": [
    "my_tuple = (1, 'banana', False)"
   ]
  },
  {
   "cell_type": "markdown",
   "metadata": {},
   "source": [
    "### Q4. What is an expression made up of? What do all expressions do?"
   ]
  },
  {
   "cell_type": "markdown",
   "metadata": {},
   "source": [
    "### In Python, an expression is made up of combinations of values, variables, operators, and function calls that are evaluated to produce a result. Expressions can be simple, like 2 + 3, or complex, involving multiple operations and functions"
   ]
  },
  {
   "cell_type": "code",
   "execution_count": 5,
   "metadata": {},
   "outputs": [],
   "source": [
    "x = 10\n",
    "y = 2 * (x + 3)\n",
    "z = len(\"Hello, World!\")\n",
    "result = x ** y + z"
   ]
  },
  {
   "cell_type": "markdown",
   "metadata": {},
   "source": [
    "### Expressions serve various purposes in Python programming, including:\n",
    "\n",
    "### Control flow: Expressions are often used in conditional statements (if, elif, else) and loops (for, while) to determine the flow of execution based on certain conditions,Performing calculations,Accessing data\n",
    "\n"
   ]
  },
  {
   "cell_type": "markdown",
   "metadata": {},
   "source": [
    "### ------------------------------------------------------------------------------------------------------------------"
   ]
  },
  {
   "cell_type": "markdown",
   "metadata": {},
   "source": [
    "### Q5. This assignment statements, like spam = 10. What is the difference between an expression and a statement?"
   ]
  },
  {
   "cell_type": "markdown",
   "metadata": {},
   "source": [
    "### Expression: Produces a value when evaluated, can be part of a statement or stand alone, always returns a value.\n"
   ]
  },
  {
   "cell_type": "code",
   "execution_count": 6,
   "metadata": {},
   "outputs": [],
   "source": [
    "result = 5 + 5"
   ]
  },
  {
   "cell_type": "markdown",
   "metadata": {},
   "source": [
    "### Statement: Performs an action, controls program flow, cannot be part of an expression, does not necessarily return a value."
   ]
  },
  {
   "cell_type": "code",
   "execution_count": 7,
   "metadata": {},
   "outputs": [],
   "source": [
    "spam = 10"
   ]
  },
  {
   "cell_type": "markdown",
   "metadata": {},
   "source": [
    "### ------------------------------------------------------------------------------------------------------------------"
   ]
  },
  {
   "cell_type": "markdown",
   "metadata": {},
   "source": [
    "### Q6  After running the following code, what does the variable bacon contain?\n"
   ]
  },
  {
   "cell_type": "markdown",
   "metadata": {},
   "source": [
    "### This print 22 because +1 is not incremented into original variable"
   ]
  },
  {
   "cell_type": "code",
   "execution_count": 12,
   "metadata": {},
   "outputs": [
    {
     "data": {
      "text/plain": [
       "22"
      ]
     },
     "execution_count": 12,
     "metadata": {},
     "output_type": "execute_result"
    }
   ],
   "source": [
    "bacon = 22\n",
    "bacon + 1\n",
    "bacon # "
   ]
  },
  {
   "cell_type": "markdown",
   "metadata": {},
   "source": [
    "### ------------------------------------------------------------------------------------------------------------------"
   ]
  },
  {
   "cell_type": "markdown",
   "metadata": {},
   "source": [
    "### Q7. What should the values of the following two terms be?\n",
    "### both will print same output"
   ]
  },
  {
   "cell_type": "code",
   "execution_count": 15,
   "metadata": {},
   "outputs": [
    {
     "name": "stdout",
     "output_type": "stream",
     "text": [
      "spamspamspam\n",
      "spamspamspam\n"
     ]
    }
   ],
   "source": [
    "print('spam'+'spamspam')\n",
    "print('spam'*3)"
   ]
  },
  {
   "cell_type": "markdown",
   "metadata": {},
   "source": [
    "### ------------------------------------------------------------------------------------------------------------------"
   ]
  },
  {
   "cell_type": "markdown",
   "metadata": {},
   "source": [
    "### Q8. Why is eggs a valid variable name while 100 is invalid?"
   ]
  },
  {
   "cell_type": "markdown",
   "metadata": {},
   "source": [
    "### eggs is a valid variable name because it starts with a letter.\n",
    "### 100 is invalid because it starts with a number, violating the rule that variable names cannot start with a number.\n",
    "### However, eggs100 would be a valid variable name because it starts with a letter and can contain numbers after the first character."
   ]
  },
  {
   "cell_type": "markdown",
   "metadata": {},
   "source": [
    "### ------------------------------------------------------------------------------------------------------------------"
   ]
  },
  {
   "cell_type": "markdown",
   "metadata": {},
   "source": [
    "### Q9. What three functions can be used to get the integer, floating-point number, or string version of a value?"
   ]
  },
  {
   "cell_type": "code",
   "execution_count": 16,
   "metadata": {},
   "outputs": [
    {
     "data": {
      "text/plain": [
       "5"
      ]
     },
     "execution_count": 16,
     "metadata": {},
     "output_type": "execute_result"
    }
   ],
   "source": [
    "\n",
    "def give_int(x):\n",
    "    integer_x = int(x)\n",
    "    return(integer_x)  # Output: 5\n",
    "\n",
    "give_int(5.0)\n"
   ]
  },
  {
   "cell_type": "code",
   "execution_count": 17,
   "metadata": {},
   "outputs": [
    {
     "data": {
      "text/plain": [
       "10.0"
      ]
     },
     "execution_count": 17,
     "metadata": {},
     "output_type": "execute_result"
    }
   ],
   "source": [
    "\n",
    "def give_flt(x):\n",
    "    integer_x = float(x)\n",
    "    return(integer_x)  # Output: 5\n",
    "\n",
    "give_flt(10)\n"
   ]
  },
  {
   "cell_type": "code",
   "execution_count": 20,
   "metadata": {},
   "outputs": [
    {
     "data": {
      "text/plain": [
       "'100'"
      ]
     },
     "execution_count": 20,
     "metadata": {},
     "output_type": "execute_result"
    }
   ],
   "source": [
    "\n",
    "def give_st(x):\n",
    "    integer_x = str(x)\n",
    "    return(integer_x)  # Output: 5\n",
    "\n",
    "give_st(100)\n"
   ]
  },
  {
   "cell_type": "markdown",
   "metadata": {},
   "source": [
    "### ------------------------------------------------------------------------------------------------------------------"
   ]
  },
  {
   "cell_type": "markdown",
   "metadata": {},
   "source": [
    "### Q10. Why does this expression cause an error? How can you fix it?\n"
   ]
  },
  {
   "cell_type": "code",
   "execution_count": 23,
   "metadata": {},
   "outputs": [
    {
     "data": {
      "text/plain": [
       "'i have eaten 99 burritos'"
      ]
     },
     "execution_count": 23,
     "metadata": {},
     "output_type": "execute_result"
    }
   ],
   "source": [
    "## Fixed it by converting 99 int to str(99)\n",
    "\n",
    "'i have eaten'+' 99'+' burritos'"
   ]
  },
  {
   "cell_type": "markdown",
   "metadata": {},
   "source": [
    "### ------------------------------------------------------------------------------------------------------------------"
   ]
  },
  {
   "cell_type": "code",
   "execution_count": null,
   "metadata": {},
   "outputs": [],
   "source": []
  }
 ],
 "metadata": {
  "kernelspec": {
   "display_name": "Python 3",
   "language": "python",
   "name": "python3"
  },
  "language_info": {
   "codemirror_mode": {
    "name": "ipython",
    "version": 3
   },
   "file_extension": ".py",
   "mimetype": "text/x-python",
   "name": "python",
   "nbconvert_exporter": "python",
   "pygments_lexer": "ipython3",
   "version": "3.10.2"
  }
 },
 "nbformat": 4,
 "nbformat_minor": 2
}
